{
 "cells": [
  {
   "cell_type": "code",
   "execution_count": 7,
   "metadata": {},
   "outputs": [],
   "source": [
    "import pandas as pd\n",
    "\n",
    "# Load the dataset\n",
    "data = pd.read_csv('traffic_data.csv')\n",
    "\n",
    "# Update vehicle counts for peak hours (e.g., 08:00 to 09:00)\n",
    "data['Time'] = pd.to_datetime(data['Time'], format='%H:%M:%S')\n",
    "\n",
    "# Assume peak hours means increasing vehicle count by 10% during these hours\n",
    "for index, row in data.iterrows():\n",
    "    if row['Time'].hour == 8:  # Peak hour\n",
    "        data.at[index, 'Vehicle_Count'] = int(row['Vehicle_Count'] * 1.1)\n",
    "\n",
    "# Save the modified dataset\n",
    "data.to_csv('traffic_data.csv', index=False)\n"
   ]
  },
  {
   "cell_type": "code",
   "execution_count": null,
   "metadata": {},
   "outputs": [],
   "source": [
    "\"\"\"Traffic Silulation done\"\"\""
   ]
  }
 ],
 "metadata": {
  "kernelspec": {
   "display_name": "Python 3",
   "language": "python",
   "name": "python3"
  },
  "language_info": {
   "codemirror_mode": {
    "name": "ipython",
    "version": 3
   },
   "file_extension": ".py",
   "mimetype": "text/x-python",
   "name": "python",
   "nbconvert_exporter": "python",
   "pygments_lexer": "ipython3",
   "version": "3.11.4"
  }
 },
 "nbformat": 4,
 "nbformat_minor": 2
}
